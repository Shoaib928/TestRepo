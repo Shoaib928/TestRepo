{
  "metadata": {
    "kernelspec": {
      "name": "python",
      "display_name": "Python (Pyodide)",
      "language": "python"
    },
    "language_info": {
      "codemirror_mode": {
        "name": "python",
        "version": 3
      },
      "file_extension": ".py",
      "mimetype": "text/x-python",
      "name": "python",
      "nbconvert_exporter": "python",
      "pygments_lexer": "ipython3",
      "version": "3.8"
    }
  },
  "nbformat_minor": 5,
  "nbformat": 4,
  "cells": [
    {
      "id": "f3fee43f-1507-422f-bf4f-eeee9b877040",
      "cell_type": "markdown",
      "source": "# Data Science Tools and Ecosystem",
      "metadata": {}
    },
    {
      "id": "1a1667f4-feae-44b1-92e5-8dd3119036e4",
      "cell_type": "markdown",
      "source": "In this notebook, Data Science Tools and Ecosystem are summarized.",
      "metadata": {}
    },
    {
      "id": "972d7f03-1d9e-4a5d-9b84-244ebc86bf0f",
      "cell_type": "markdown",
      "source": "**Objectives**:\n* List popular languages for Data Science\n* List popular libraries used by Data Scientists\n* Data Science Tool\n* Arithmetic expressions in Python",
      "metadata": {}
    },
    {
      "id": "84826ade-d66e-4a2a-8f62-772a915ed978",
      "cell_type": "markdown",
      "source": "Some of the popular languages that Data Scientists use are:\n1. Python\n2. R\n3. SQL",
      "metadata": {}
    },
    {
      "id": "5cfd1cb0-6161-40fd-adc8-d8a87259ffa0",
      "cell_type": "markdown",
      "source": "Some of the commonly used libraries used by Data Scientists include:\n1. Tensor Flow\n2. Numpy\n3. Pandas\n    ",
      "metadata": {}
    },
    {
      "id": "5143a711-b313-4295-b82a-d6cdd010e98f",
      "cell_type": "markdown",
      "source": "\n|Data Science Tools|\n|---|\n|Apache Hadoop|\n|Apache Spark|\n|Apache Flink|",
      "metadata": {}
    },
    {
      "id": "0dba0731-b7ab-4fee-a11f-4241aabdcb09",
      "cell_type": "markdown",
      "source": "| Stretch/Untouched | ProbDistribution | Accuracy |\n| --- | --- | --- |\n| Stretched | Gaussian | .843 |\n",
      "metadata": {}
    },
    {
      "id": "2acfa1fe-82da-400a-ae99-f44d96ee3e48",
      "cell_type": "code",
      "source": "",
      "metadata": {
        "trusted": true
      },
      "outputs": [],
      "execution_count": null
    },
    {
      "id": "3c08f9c9-0a20-4944-bff2-68920886dc73",
      "cell_type": "markdown",
      "source": "### Below are a few examples of evaluating arithmetic expressions in Python\n",
      "metadata": {}
    },
    {
      "id": "ffc118ad-115a-4678-a7fa-5829609e28a5",
      "cell_type": "code",
      "source": "# This a simple arithmetic expression to mutiply then add integers\n(3*4)+5",
      "metadata": {
        "trusted": true
      },
      "outputs": [
        {
          "execution_count": 3,
          "output_type": "execute_result",
          "data": {
            "text/plain": "17"
          },
          "metadata": {}
        }
      ],
      "execution_count": 3
    },
    {
      "id": "400145ce-3411-48a4-a274-526cce18ab57",
      "cell_type": "code",
      "source": "# This will convert 200 minutes to hours by diving by 60\n200/60",
      "metadata": {
        "trusted": true
      },
      "outputs": [
        {
          "execution_count": 6,
          "output_type": "execute_result",
          "data": {
            "text/plain": "3.3333333333333335"
          },
          "metadata": {}
        }
      ],
      "execution_count": 6
    },
    {
      "id": "18a03fb2-8563-4e23-9d2a-9e7e50b3a41e",
      "cell_type": "markdown",
      "source": "## Author\n",
      "metadata": {}
    },
    {
      "id": "5b576201-f62e-4616-a5b2-7d45baf8a63d",
      "cell_type": "markdown",
      "source": "Mohamed Shoaib",
      "metadata": {}
    }
  ]
}